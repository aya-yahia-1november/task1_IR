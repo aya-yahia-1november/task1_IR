{
 "cells": [
  {
   "cell_type": "code",
   "execution_count": 1,
   "metadata": {},
   "outputs": [
    {
     "data": {
      "text/plain": [
       "{'doc0': 'قضينا في الخليل ستة أشهر ثم بدأ أهل البلد يتوزعون منهم من أراد اللحاق بأقرباء له في طولكرم أو نابلس أو جنين و منهم من تسلل عائدا الى الجليل و منهم من ذهب الى سوريا',\n",
       " 'doc1': 'الحرب تخيف كثيراً لكنها تعلم تعلمك الحرب أن الكلمات قد لا تعني مدلولاتها بشكل كامل',\n",
       " 'doc2': 'نعم زرت بيروت زرتها بعد خمس سنين من الغياب',\n",
       " 'doc3': 'ويلجم الجميع لا أحد يستطيع تفسير ما حصل يتمتمون الجيوش العربية ستتدخل أجل ستتدخل بالتأكيد هل يترك العرب فلسطين تضيع',\n",
       " 'doc4': 'رحل إلى بيروت تظنها نهاية الحرب وبداية الاستقرار يخونها حدسها الحرب هنا غير تلك في فلسطين لكنها الحرب التي لا تعبأ بك وبمن تكون ملحوظة: الجمل مقتبسة من رواية الطنطورية لرضوى عاشور'}"
      ]
     },
     "execution_count": 1,
     "metadata": {},
     "output_type": "execute_result"
    }
   ],
   "source": [
    "d0=\"قضينا في الخليل ستة أشهر ثم بدأ أهل البلد يتوزعون منهم من أراد اللحاق بأقرباء له في طولكرم أو نابلس أو جنين و منهم من تسلل عائدا الى الجليل و منهم من ذهب الى سوريا\"\n",
    "d1=\"الحرب تخيف كثيراً لكنها تعلم تعلمك الحرب أن الكلمات قد لا تعني مدلولاتها بشكل كامل\"\n",
    "d2=\"نعم زرت بيروت زرتها بعد خمس سنين من الغياب\"\n",
    "d3=\"ويلجم الجميع لا أحد يستطيع تفسير ما حصل يتمتمون الجيوش العربية ستتدخل أجل ستتدخل بالتأكيد هل يترك العرب فلسطين تضيع\"\n",
    "d4=\"رحل إلى بيروت تظنها نهاية الحرب وبداية الاستقرار يخونها حدسها الحرب هنا غير تلك في فلسطين لكنها الحرب التي لا تعبأ بك وبمن تكون ملحوظة: الجمل مقتبسة من رواية الطنطورية لرضوى عاشور\"\n",
    "collection = {\"doc0\": d0,\n",
    "         \"doc1\": d1, \n",
    "         \"doc2\": d2, \n",
    "         \"doc3\": d3,\n",
    "         \"doc4\": d4}\n",
    "collection"
   ]
  },
  {
   "cell_type": "code",
   "execution_count": 2,
   "metadata": {},
   "outputs": [],
   "source": [
    "boolean_operators = {\"AND\", \"OR\", \"NOT\"}"
   ]
  },
  {
   "cell_type": "code",
   "execution_count": 3,
   "metadata": {},
   "outputs": [],
   "source": [
    "def get_terms(data):\n",
    "    terms = []\n",
    "    for doc in data:\n",
    "        for term in data[doc].split():\n",
    "            terms.append(term)\n",
    "    return terms"
   ]
  },
  {
   "cell_type": "code",
   "execution_count": 4,
   "metadata": {},
   "outputs": [],
   "source": [
    "def get_unique_terms(terms):\n",
    "    unique_terms = []\n",
    "    for d in terms:\n",
    "        if d not in unique_terms:\n",
    "            unique_terms.append(d)\n",
    "    return unique_terms"
   ]
  },
  {
   "cell_type": "code",
   "execution_count": 5,
   "metadata": {},
   "outputs": [],
   "source": [
    "def get_document_collection_terms(data):\n",
    "    docs_colllection = {}\n",
    "    for doc in data:\n",
    "        if doc not in boolean_operators:\n",
    "            docs_colllection[doc] = get_unique_terms(data[doc].split())\n",
    "    return docs_colllection"
   ]
  },
  {
   "cell_type": "code",
   "execution_count": 6,
   "metadata": {},
   "outputs": [],
   "source": [
    "def display_dict(dic):\n",
    "    print(\"\\n\")\n",
    "    for i in dic:\n",
    "        print(i, \" : \", dic[i])\n",
    "    print(\"\\n\")"
   ]
  },
  {
   "cell_type": "code",
   "execution_count": 7,
   "metadata": {},
   "outputs": [
    {
     "name": "stdout",
     "output_type": "stream",
     "text": [
      "\n",
      "\n",
      "doc0  :  قضينا في الخليل ستة أشهر ثم بدأ أهل البلد يتوزعون منهم من أراد اللحاق بأقرباء له في طولكرم أو نابلس أو جنين و منهم من تسلل عائدا الى الجليل و منهم من ذهب الى سوريا\n",
      "doc1  :  الحرب تخيف كثيراً لكنها تعلم تعلمك الحرب أن الكلمات قد لا تعني مدلولاتها بشكل كامل\n",
      "doc2  :  نعم زرت بيروت زرتها بعد خمس سنين من الغياب\n",
      "doc3  :  ويلجم الجميع لا أحد يستطيع تفسير ما حصل يتمتمون الجيوش العربية ستتدخل أجل ستتدخل بالتأكيد هل يترك العرب فلسطين تضيع\n",
      "doc4  :  رحل إلى بيروت تظنها نهاية الحرب وبداية الاستقرار يخونها حدسها الحرب هنا غير تلك في فلسطين لكنها الحرب التي لا تعبأ بك وبمن تكون ملحوظة: الجمل مقتبسة من رواية الطنطورية لرضوى عاشور\n",
      "\n",
      "\n"
     ]
    }
   ],
   "source": [
    "display_dict(collection)"
   ]
  },
  {
   "cell_type": "code",
   "execution_count": 10,
   "metadata": {},
   "outputs": [
    {
     "name": "stdout",
     "output_type": "stream",
     "text": [
      "\n",
      "****Terms in 5 document *****\n",
      " | قضينا | في | الخليل | ستة | أشهر | ثم | بدأ | أهل | البلد | يتوزعون | منهم | من | أراد | اللحاق | بأقرباء | له | في | طولكرم | أو | نابلس | أو | جنين | و | منهم | من | تسلل | عائدا | الى | الجليل | و | منهم | من | ذهب | الى | سوريا | الحرب | تخيف | كثيراً | لكنها | تعلم | تعلمك | الحرب | أن | الكلمات | قد | لا | تعني | مدلولاتها | بشكل | كامل | نعم | زرت | بيروت | زرتها | بعد | خمس | سنين | من | الغياب | ويلجم | الجميع | لا | أحد | يستطيع | تفسير | ما | حصل | يتمتمون | الجيوش | العربية | ستتدخل | أجل | ستتدخل | بالتأكيد | هل | يترك | العرب | فلسطين | تضيع | رحل | إلى | بيروت | تظنها | نهاية | الحرب | وبداية | الاستقرار | يخونها | حدسها | الحرب | هنا | غير | تلك | في | فلسطين | لكنها | الحرب | التي | لا | تعبأ | بك | وبمن | تكون | ملحوظة: | الجمل | مقتبسة | من | رواية | الطنطورية | لرضوى | عاشور\n"
     ]
    }
   ],
   "source": [
    "print(\"\\n****Terms in 5 document *****\\n\", *get_terms(collection), sep=\" | \")"
   ]
  },
  {
   "cell_type": "code",
   "execution_count": 12,
   "metadata": {},
   "outputs": [
    {
     "name": "stdout",
     "output_type": "stream",
     "text": [
      "\n",
      "**** Unique Terms in 5 DOCOMENT*****\n",
      " | قضينا | في | الخليل | ستة | أشهر | ثم | بدأ | أهل | البلد | يتوزعون | منهم | من | أراد | اللحاق | بأقرباء | له | طولكرم | أو | نابلس | جنين | و | تسلل | عائدا | الى | الجليل | ذهب | سوريا | الحرب | تخيف | كثيراً | لكنها | تعلم | تعلمك | أن | الكلمات | قد | لا | تعني | مدلولاتها | بشكل | كامل | نعم | زرت | بيروت | زرتها | بعد | خمس | سنين | الغياب | ويلجم | الجميع | أحد | يستطيع | تفسير | ما | حصل | يتمتمون | الجيوش | العربية | ستتدخل | أجل | بالتأكيد | هل | يترك | العرب | فلسطين | تضيع | رحل | إلى | تظنها | نهاية | وبداية | الاستقرار | يخونها | حدسها | هنا | غير | تلك | التي | تعبأ | بك | وبمن | تكون | ملحوظة: | الجمل | مقتبسة | رواية | الطنطورية | لرضوى | عاشور\n"
     ]
    }
   ],
   "source": [
    "terms = get_terms(collection)\n",
    "print(\"\\n**** Unique Terms in 5 DOCOMENT*****\\n\", *get_unique_terms(terms), sep=\" | \")"
   ]
  },
  {
   "cell_type": "code",
   "execution_count": 13,
   "metadata": {},
   "outputs": [
    {
     "name": "stdout",
     "output_type": "stream",
     "text": [
      "\n",
      "\n",
      "doc0  :  ['قضينا', 'في', 'الخليل', 'ستة', 'أشهر', 'ثم', 'بدأ', 'أهل', 'البلد', 'يتوزعون', 'منهم', 'من', 'أراد', 'اللحاق', 'بأقرباء', 'له', 'طولكرم', 'أو', 'نابلس', 'جنين', 'و', 'تسلل', 'عائدا', 'الى', 'الجليل', 'ذهب', 'سوريا']\n",
      "doc1  :  ['الحرب', 'تخيف', 'كثيراً', 'لكنها', 'تعلم', 'تعلمك', 'أن', 'الكلمات', 'قد', 'لا', 'تعني', 'مدلولاتها', 'بشكل', 'كامل']\n",
      "doc2  :  ['نعم', 'زرت', 'بيروت', 'زرتها', 'بعد', 'خمس', 'سنين', 'من', 'الغياب']\n",
      "doc3  :  ['ويلجم', 'الجميع', 'لا', 'أحد', 'يستطيع', 'تفسير', 'ما', 'حصل', 'يتمتمون', 'الجيوش', 'العربية', 'ستتدخل', 'أجل', 'بالتأكيد', 'هل', 'يترك', 'العرب', 'فلسطين', 'تضيع']\n",
      "doc4  :  ['رحل', 'إلى', 'بيروت', 'تظنها', 'نهاية', 'الحرب', 'وبداية', 'الاستقرار', 'يخونها', 'حدسها', 'هنا', 'غير', 'تلك', 'في', 'فلسطين', 'لكنها', 'التي', 'لا', 'تعبأ', 'بك', 'وبمن', 'تكون', 'ملحوظة:', 'الجمل', 'مقتبسة', 'من', 'رواية', 'الطنطورية', 'لرضوى', 'عاشور']\n",
      "\n",
      "\n"
     ]
    }
   ],
   "source": [
    "display_dict(get_document_collection_terms(collection))"
   ]
  },
  {
   "cell_type": "code",
   "execution_count": 14,
   "metadata": {},
   "outputs": [],
   "source": [
    "def term_document_incidence_matrix(collection):\n",
    "    terms = get_terms(collection)\n",
    "    unique_terms = get_unique_terms(terms)\n",
    "    docs_terms = get_document_collection_terms(collection)\n",
    "    # TermDocumentIncidenceMatrix\n",
    "    term_docs_matrix = {}\n",
    "\n",
    "    for term in unique_terms:\n",
    "        vector = []\n",
    "        for c in docs_terms:\n",
    "            if term in docs_terms[c]:\n",
    "                vector.append(1)\n",
    "            else:\n",
    "                vector.append(0)\n",
    "\n",
    "        term_docs_matrix[term] = vector\n",
    "    return term_docs_matrix"
   ]
  },
  {
   "cell_type": "code",
   "execution_count": 15,
   "metadata": {},
   "outputs": [],
   "source": [
    "def term_incidence_vector(term, term_docs_incid_matrix):\n",
    "    try:\n",
    "        return term_docs_incid_matrix[term]\n",
    "    except:\n",
    "        return \"term not found\""
   ]
  },
  {
   "cell_type": "code",
   "execution_count": 16,
   "metadata": {},
   "outputs": [
    {
     "name": "stdout",
     "output_type": "stream",
     "text": [
      "Term-Document incidence Matrix\n",
      "\n",
      "\n",
      "\n",
      "قضينا  :  [1, 0, 0, 0, 0]\n",
      "في  :  [1, 0, 0, 0, 1]\n",
      "الخليل  :  [1, 0, 0, 0, 0]\n",
      "ستة  :  [1, 0, 0, 0, 0]\n",
      "أشهر  :  [1, 0, 0, 0, 0]\n",
      "ثم  :  [1, 0, 0, 0, 0]\n",
      "بدأ  :  [1, 0, 0, 0, 0]\n",
      "أهل  :  [1, 0, 0, 0, 0]\n",
      "البلد  :  [1, 0, 0, 0, 0]\n",
      "يتوزعون  :  [1, 0, 0, 0, 0]\n",
      "منهم  :  [1, 0, 0, 0, 0]\n",
      "من  :  [1, 0, 1, 0, 1]\n",
      "أراد  :  [1, 0, 0, 0, 0]\n",
      "اللحاق  :  [1, 0, 0, 0, 0]\n",
      "بأقرباء  :  [1, 0, 0, 0, 0]\n",
      "له  :  [1, 0, 0, 0, 0]\n",
      "طولكرم  :  [1, 0, 0, 0, 0]\n",
      "أو  :  [1, 0, 0, 0, 0]\n",
      "نابلس  :  [1, 0, 0, 0, 0]\n",
      "جنين  :  [1, 0, 0, 0, 0]\n",
      "و  :  [1, 0, 0, 0, 0]\n",
      "تسلل  :  [1, 0, 0, 0, 0]\n",
      "عائدا  :  [1, 0, 0, 0, 0]\n",
      "الى  :  [1, 0, 0, 0, 0]\n",
      "الجليل  :  [1, 0, 0, 0, 0]\n",
      "ذهب  :  [1, 0, 0, 0, 0]\n",
      "سوريا  :  [1, 0, 0, 0, 0]\n",
      "الحرب  :  [0, 1, 0, 0, 1]\n",
      "تخيف  :  [0, 1, 0, 0, 0]\n",
      "كثيراً  :  [0, 1, 0, 0, 0]\n",
      "لكنها  :  [0, 1, 0, 0, 1]\n",
      "تعلم  :  [0, 1, 0, 0, 0]\n",
      "تعلمك  :  [0, 1, 0, 0, 0]\n",
      "أن  :  [0, 1, 0, 0, 0]\n",
      "الكلمات  :  [0, 1, 0, 0, 0]\n",
      "قد  :  [0, 1, 0, 0, 0]\n",
      "لا  :  [0, 1, 0, 1, 1]\n",
      "تعني  :  [0, 1, 0, 0, 0]\n",
      "مدلولاتها  :  [0, 1, 0, 0, 0]\n",
      "بشكل  :  [0, 1, 0, 0, 0]\n",
      "كامل  :  [0, 1, 0, 0, 0]\n",
      "نعم  :  [0, 0, 1, 0, 0]\n",
      "زرت  :  [0, 0, 1, 0, 0]\n",
      "بيروت  :  [0, 0, 1, 0, 1]\n",
      "زرتها  :  [0, 0, 1, 0, 0]\n",
      "بعد  :  [0, 0, 1, 0, 0]\n",
      "خمس  :  [0, 0, 1, 0, 0]\n",
      "سنين  :  [0, 0, 1, 0, 0]\n",
      "الغياب  :  [0, 0, 1, 0, 0]\n",
      "ويلجم  :  [0, 0, 0, 1, 0]\n",
      "الجميع  :  [0, 0, 0, 1, 0]\n",
      "أحد  :  [0, 0, 0, 1, 0]\n",
      "يستطيع  :  [0, 0, 0, 1, 0]\n",
      "تفسير  :  [0, 0, 0, 1, 0]\n",
      "ما  :  [0, 0, 0, 1, 0]\n",
      "حصل  :  [0, 0, 0, 1, 0]\n",
      "يتمتمون  :  [0, 0, 0, 1, 0]\n",
      "الجيوش  :  [0, 0, 0, 1, 0]\n",
      "العربية  :  [0, 0, 0, 1, 0]\n",
      "ستتدخل  :  [0, 0, 0, 1, 0]\n",
      "أجل  :  [0, 0, 0, 1, 0]\n",
      "بالتأكيد  :  [0, 0, 0, 1, 0]\n",
      "هل  :  [0, 0, 0, 1, 0]\n",
      "يترك  :  [0, 0, 0, 1, 0]\n",
      "العرب  :  [0, 0, 0, 1, 0]\n",
      "فلسطين  :  [0, 0, 0, 1, 1]\n",
      "تضيع  :  [0, 0, 0, 1, 0]\n",
      "رحل  :  [0, 0, 0, 0, 1]\n",
      "إلى  :  [0, 0, 0, 0, 1]\n",
      "تظنها  :  [0, 0, 0, 0, 1]\n",
      "نهاية  :  [0, 0, 0, 0, 1]\n",
      "وبداية  :  [0, 0, 0, 0, 1]\n",
      "الاستقرار  :  [0, 0, 0, 0, 1]\n",
      "يخونها  :  [0, 0, 0, 0, 1]\n",
      "حدسها  :  [0, 0, 0, 0, 1]\n",
      "هنا  :  [0, 0, 0, 0, 1]\n",
      "غير  :  [0, 0, 0, 0, 1]\n",
      "تلك  :  [0, 0, 0, 0, 1]\n",
      "التي  :  [0, 0, 0, 0, 1]\n",
      "تعبأ  :  [0, 0, 0, 0, 1]\n",
      "بك  :  [0, 0, 0, 0, 1]\n",
      "وبمن  :  [0, 0, 0, 0, 1]\n",
      "تكون  :  [0, 0, 0, 0, 1]\n",
      "ملحوظة:  :  [0, 0, 0, 0, 1]\n",
      "الجمل  :  [0, 0, 0, 0, 1]\n",
      "مقتبسة  :  [0, 0, 0, 0, 1]\n",
      "رواية  :  [0, 0, 0, 0, 1]\n",
      "الطنطورية  :  [0, 0, 0, 0, 1]\n",
      "لرضوى  :  [0, 0, 0, 0, 1]\n",
      "عاشور  :  [0, 0, 0, 0, 1]\n",
      "\n",
      "\n"
     ]
    }
   ],
   "source": [
    "term_docs_incid_matrix = term_document_incidence_matrix(collection)\n",
    "print(\"Term-Document incidence Matrix\\n\")\n",
    "# formatted Display\n",
    "display_dict(term_docs_incid_matrix)"
   ]
  },
  {
   "cell_type": "markdown",
   "metadata": {},
   "source": [
    "### Buidling a Boolean retrieval model"
   ]
  },
  {
   "cell_type": "code",
   "execution_count": 17,
   "metadata": {},
   "outputs": [],
   "source": [
    "def query_filteration(query, collection):\n",
    "    terms = get_terms(collection)\n",
    "    unique_terms = get_unique_terms(terms)\n",
    "    qterms = []\n",
    "    splitted_query = query.split()\n",
    "    for qterm in splitted_query:\n",
    "        if qterm in unique_terms or qterm in boolean_operators:\n",
    "            qterms.append(qterm)\n",
    "    return qterms"
   ]
  },
  {
   "cell_type": "code",
   "execution_count": 18,
   "metadata": {},
   "outputs": [
    {
     "name": "stdout",
     "output_type": "stream",
     "text": [
      "['أو', 'AND', 'عاشور', 'AND', 'نابلس']\n"
     ]
    }
   ],
   "source": [
    "query = \"أو AND عاشور AND نابلس\"\n",
    "qterms = query_filteration(query, collection)\n",
    "print(qterms)"
   ]
  },
  {
   "cell_type": "code",
   "execution_count": 19,
   "metadata": {},
   "outputs": [],
   "source": [
    "def boolean_operator_processing(bool_operator, prevV, nextV):\n",
    "    if bool_operator == \"AND\":\n",
    "        return [a & b for a, b in zip(prevV, nextV)]\n",
    "    elif bool_operator == \"OR\":\n",
    "        return [a | b for a, b in zip(prevV, nextV)]\n",
    "    elif bool_operator == \"NOT\":\n",
    "        return [1 - a for a in prevV]"
   ]
  },
  {
   "cell_type": "code",
   "execution_count": 20,
   "metadata": {},
   "outputs": [
    {
     "name": "stdout",
     "output_type": "stream",
     "text": [
      "v1 [1, 0, 0, 0, 0]\n",
      "v2 [0, 0, 0, 0, 1]\n"
     ]
    }
   ],
   "source": [
    "v1 = term_incidence_vector(\"نابلس\", term_docs_incid_matrix)\n",
    "v2 = term_incidence_vector(\"عاشور\", term_docs_incid_matrix)\n",
    "v3 = []\n",
    "print(\"v1\", v1)\n",
    "print(\"v2\", v2)"
   ]
  },
  {
   "cell_type": "code",
   "execution_count": 21,
   "metadata": {},
   "outputs": [
    {
     "name": "stdout",
     "output_type": "stream",
     "text": [
      "[0, 0, 0, 0, 0]\n"
     ]
    }
   ],
   "source": [
    "print(boolean_operator_processing(\"AND\", v1, v2))"
   ]
  },
  {
   "cell_type": "code",
   "execution_count": 22,
   "metadata": {},
   "outputs": [
    {
     "name": "stdout",
     "output_type": "stream",
     "text": [
      "[1, 0, 0, 0, 1]\n"
     ]
    }
   ],
   "source": [
    "print(boolean_operator_processing(\"OR\", v1, v2))"
   ]
  },
  {
   "cell_type": "code",
   "execution_count": 23,
   "metadata": {},
   "outputs": [],
   "source": [
    "# Boolean retrieval function\n",
    "def boolean_retrieval(query, collection):\n",
    "    # build a terms_documents incidence matrix\n",
    "    term_docs_incid_matrix = term_document_incidence_matrix(collection)\n",
    "    bitwiseop = \"\"\n",
    "    # get the query terms\n",
    "    qterms = query_filteration(query, collection)\n",
    "    result = []\n",
    "    result_set = {}\n",
    "    has_previous_term = False\n",
    "    has_not_operation = False\n",
    "    inc_vec_prev = []\n",
    "    inc_vec_next = []\n",
    "    for term in qterms:\n",
    "        if term not in boolean_operators:\n",
    "            if has_not_operation:\n",
    "                if has_previous_term:\n",
    "                    inc_vec_next = boolean_operator_processing(\n",
    "                        \"NOT\", term_docs_incid_matrix[term], inc_vec_next\n",
    "                    )\n",
    "                else:\n",
    "                    inc_vec_prev = boolean_operator_processing(\n",
    "                        \"NOT\", term_docs_incid_matrix[term], inc_vec_next\n",
    "                    )\n",
    "                    result = inc_vec_prev\n",
    "                has_not_operation = False\n",
    "\n",
    "            elif has_previous_term:\n",
    "                inc_vec_next = term_docs_incid_matrix[term]\n",
    "            else:\n",
    "                inc_vec_prev = term_docs_incid_matrix[term]\n",
    "                result = inc_vec_prev\n",
    "                has_previous_term = True\n",
    "\n",
    "        elif term == \"NOT\":\n",
    "            has_not_operation = True\n",
    "\n",
    "        else:\n",
    "            bitwiseop = term\n",
    "\n",
    "        if len(inc_vec_next) != 0:\n",
    "            result = boolean_operator_processing(bitwiseop, inc_vec_prev, inc_vec_next)\n",
    "            inc_vec_prev = result\n",
    "            has_previous_term = True\n",
    "            inc_vec_next = []\n",
    "\n",
    "    for i, doc in zip(result, collection):\n",
    "        result_set[doc] = i\n",
    "    return result_set"
   ]
  },
  {
   "cell_type": "code",
   "execution_count": 25,
   "metadata": {},
   "outputs": [
    {
     "name": "stdout",
     "output_type": "stream",
     "text": [
      "query1 boolean retrieval  {'doc0': 1, 'doc1': 0, 'doc2': 0, 'doc3': 0, 'doc4': 1}\n"
     ]
    }
   ],
   "source": [
    "query1 = \"عاشور OR أو OR نابلس\"\n",
    "print(\"query1 boolean retrieval \", boolean_retrieval(query1, collection))"
   ]
  },
  {
   "cell_type": "code",
   "execution_count": null,
   "metadata": {},
   "outputs": [],
   "source": []
  }
 ],
 "metadata": {
  "kernelspec": {
   "display_name": "base",
   "language": "python",
   "name": "python3"
  },
  "language_info": {
   "codemirror_mode": {
    "name": "ipython",
    "version": 3
   },
   "file_extension": ".py",
   "mimetype": "text/x-python",
   "name": "python",
   "nbconvert_exporter": "python",
   "pygments_lexer": "ipython3",
   "version": "3.10.13"
  }
 },
 "nbformat": 4,
 "nbformat_minor": 2
}
